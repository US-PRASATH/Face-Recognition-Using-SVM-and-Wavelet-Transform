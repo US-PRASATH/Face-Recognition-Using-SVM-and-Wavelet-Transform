{
 "cells": [
  {
   "cell_type": "code",
   "execution_count": 2,
   "id": "1d456320-5a02-4ee0-9f5f-dd35649a509c",
   "metadata": {},
   "outputs": [],
   "source": [
    "import numpy as np\n",
    "import cv2\n",
    "import matplotlib\n",
    "from matplotlib import pyplot as plt\n",
    "%matplotlib inline"
   ]
  },
  {
   "cell_type": "code",
   "execution_count": 3,
   "id": "0daca81c-4b8f-42c8-a964-ba57cd880c6e",
   "metadata": {},
   "outputs": [
    {
     "ename": "SyntaxError",
     "evalue": "invalid syntax (3333646188.py, line 1)",
     "output_type": "error",
     "traceback": [
      "\u001b[1;36m  Cell \u001b[1;32mIn[3], line 1\u001b[1;36m\u001b[0m\n\u001b[1;33m    let src = cv.imread('canvasInput');\u001b[0m\n\u001b[1;37m        ^\u001b[0m\n\u001b[1;31mSyntaxError\u001b[0m\u001b[1;31m:\u001b[0m invalid syntax\n"
     ]
    }
   ],
   "source": [
    "let src = cv.imread('canvasInput');\n",
    "let gray = new cv.Mat();\n",
    "cv.cvtColor(src, gray, cv.COLOR_RGBA2GRAY, 0);\n",
    "let faces = new cv.RectVector();\n",
    "let eyes = new cv.RectVector();\n",
    "let faceCascade = new cv.CascadeClassifier();\n",
    "let eyeCascade = new cv.CascadeClassifier();\n",
    "// load pre-trained classifiers\n",
    "faceCascade.load('haarcascade_frontalface_default.xml');\n",
    "eyeCascade.load('haarcascade_eye.xml');\n",
    "// detect faces\n",
    "let msize = new cv.Size(0, 0);\n",
    "faceCascade.detectMultiScale(gray, faces, 1.1, 3, 0, msize, msize);\n",
    "for (let i = 0; i < faces.size(); ++i) {\n",
    "    let roiGray = gray.roi(faces.get(i));\n",
    "    let roiSrc = src.roi(faces.get(i));\n",
    "    let point1 = new cv.Point(faces.get(i).x, faces.get(i).y);\n",
    "    let point2 = new cv.Point(faces.get(i).x + faces.get(i).width,\n",
    "                              faces.get(i).y + faces.get(i).height);\n",
    "    cv.rectangle(src, point1, point2, [255, 0, 0, 255]);\n",
    "    // detect eyes in face ROI\n",
    "    eyeCascade.detectMultiScale(roiGray, eyes);\n",
    "    for (let j = 0; j < eyes.size(); ++j) {\n",
    "        let point1 = new cv.Point(eyes.get(j).x, eyes.get(j).y);\n",
    "        let point2 = new cv.Point(eyes.get(j).x + eyes.get(j).width,\n",
    "                                  eyes.get(j).y + eyes.get(j).height);\n",
    "        cv.rectangle(roiSrc, point1, point2, [0, 0, 255, 255]);\n",
    "    }\n",
    "    roiGray.delete(); roiSrc.delete();\n",
    "}\n",
    "cv.imshow('canvasOutput', src);\n",
    "src.delete(); gray.delete(); faceCascade.delete();\n",
    "eyeCascade.delete(); faces.delete(); eyes.delete();\n"
   ]
  },
  {
   "cell_type": "code",
   "execution_count": 12,
   "id": "92b057bc-78e8-4783-928b-9639f4137870",
   "metadata": {},
   "outputs": [],
   "source": [
    "path_to_data = \"./dataset\"\n",
    "path_to_cr_data = \"./dataset/cropped/\"\n"
   ]
  },
  {
   "cell_type": "code",
   "execution_count": 13,
   "id": "51b755ae-5f24-43c0-a477-45082c27e0f1",
   "metadata": {},
   "outputs": [
    {
     "ename": "FileNotFoundError",
     "evalue": "[WinError 3] The system cannot find the path specified: './dataset'",
     "output_type": "error",
     "traceback": [
      "\u001b[1;31m---------------------------------------------------------------------------\u001b[0m",
      "\u001b[1;31mFileNotFoundError\u001b[0m                         Traceback (most recent call last)",
      "Cell \u001b[1;32mIn[13], line 3\u001b[0m\n\u001b[0;32m      1\u001b[0m \u001b[38;5;28;01mimport\u001b[39;00m \u001b[38;5;21;01mos\u001b[39;00m\n\u001b[0;32m      2\u001b[0m img_dirs \u001b[38;5;241m=\u001b[39m []\n\u001b[1;32m----> 3\u001b[0m \u001b[38;5;28;01mfor\u001b[39;00m entry \u001b[38;5;129;01min\u001b[39;00m \u001b[43mos\u001b[49m\u001b[38;5;241;43m.\u001b[39;49m\u001b[43mscandir\u001b[49m\u001b[43m(\u001b[49m\u001b[43mpath_to_data\u001b[49m\u001b[43m)\u001b[49m:\n\u001b[0;32m      4\u001b[0m     \u001b[38;5;28;01mif\u001b[39;00m entry\u001b[38;5;241m.\u001b[39mis_dir():\n\u001b[0;32m      5\u001b[0m         img_dirs\u001b[38;5;241m.\u001b[39mappend(entry\u001b[38;5;241m.\u001b[39mpath)\n",
      "\u001b[1;31mFileNotFoundError\u001b[0m: [WinError 3] The system cannot find the path specified: './dataset'"
     ]
    }
   ],
   "source": [
    "import os\n",
    "img_dirs = []\n",
    "for entry in os.scandir(path_to_data):\n",
    "    if entry.is_dir():\n",
    "        img_dirs.append(entry.path)"
   ]
  },
  {
   "cell_type": "code",
   "execution_count": 9,
   "id": "dcbd5e55-569c-4d9a-8878-ae50941417b6",
   "metadata": {},
   "outputs": [
    {
     "data": {
      "text/plain": [
       "['Downloads/Person-Classifier/dataset\\\\lionel_messi',\n",
       " 'Downloads/Person-Classifier/dataset\\\\roger_federer',\n",
       " 'Downloads/Person-Classifier/dataset\\\\virat_kohli']"
      ]
     },
     "execution_count": 9,
     "metadata": {},
     "output_type": "execute_result"
    }
   ],
   "source": [
    "img_dirs"
   ]
  },
  {
   "cell_type": "code",
   "execution_count": null,
   "id": "de6e03cf-33a5-45af-adaf-c0d0e87d1eb8",
   "metadata": {},
   "outputs": [],
   "source": []
  }
 ],
 "metadata": {
  "kernelspec": {
   "display_name": "Python 3 (ipykernel)",
   "language": "python",
   "name": "python3"
  },
  "language_info": {
   "codemirror_mode": {
    "name": "ipython",
    "version": 3
   },
   "file_extension": ".py",
   "mimetype": "text/x-python",
   "name": "python",
   "nbconvert_exporter": "python",
   "pygments_lexer": "ipython3",
   "version": "3.12.5"
  }
 },
 "nbformat": 4,
 "nbformat_minor": 5
}
